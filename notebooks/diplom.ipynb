{
  "cells": [
    {
      "cell_type": "code",
      "execution_count": null,
      "metadata": {
        "id": "BsWXoqhivY5p"
      },
      "outputs": [
        {
          "ename": "",
          "evalue": "",
          "output_type": "error",
          "traceback": [
            "\u001b[1;31mДля выполнения ячеек с \"bigdata\" требуется пакет ipykernel.\n",
            "\u001b[1;31mВыполните следующую команду, чтобы установить \"ipykernel\" в среде Python. \n",
            "\u001b[1;31mКоманда: \"conda install -n bigdata ipykernel --update-deps --force-reinstall\""
          ]
        }
      ],
      "source": [
        "import numpy as np\n",
        "import pandas as pd\n",
        "\n",
        "from sklearn.model_selection import train_test_split\n",
        "from sklearn.linear_model import LinearRegression\n",
        "from sklearn.metrics import mean_squared_error\n",
        "from sklearn.metrics import mean_absolute_error\n",
        "from sklearn.preprocessing import StandardScaler"
      ]
    },
    {
      "cell_type": "markdown",
      "metadata": {},
      "source": []
    },
    {
      "cell_type": "code",
      "execution_count": null,
      "metadata": {
        "id": "qHnFh1uiz25G"
      },
      "outputs": [],
      "source": [
        "df_train = pd.read_csv('./data/train_initial.csv')\n",
        "del df_train['Unnamed: 0']"
      ]
    },
    {
      "cell_type": "code",
      "execution_count": null,
      "metadata": {
        "colab": {
          "base_uri": "https://localhost:8080/",
          "height": 206
        },
        "id": "JcBAfQuH1dup",
        "outputId": "eb28ac48-1b4a-41e9-cdc8-158af0deddb1"
      },
      "outputs": [
        {
          "data": {
            "application/vnd.google.colaboratory.intrinsic+json": {
              "summary": "{\n  \"name\": \"df_train\",\n  \"rows\": 6261,\n  \"fields\": [\n    {\n      \"column\": \"id\",\n      \"properties\": {\n        \"dtype\": \"number\",\n        \"std\": 2547.213466575617,\n        \"min\": 5.0,\n        \"max\": 8811.0,\n        \"num_unique_values\": 6261,\n        \"samples\": [\n          3119.0,\n          3566.0,\n          620.0\n        ],\n        \"semantic_type\": \"\",\n        \"description\": \"\"\n      }\n    },\n    {\n      \"column\": \"atm_group\",\n      \"properties\": {\n        \"dtype\": \"number\",\n        \"std\": 2430.4132870069643,\n        \"min\": 32.0,\n        \"max\": 8083.0,\n        \"num_unique_values\": 7,\n        \"samples\": [\n          32.0,\n          496.5,\n          5478.0\n        ],\n        \"semantic_type\": \"\",\n        \"description\": \"\"\n      }\n    },\n    {\n      \"column\": \"address\",\n      \"properties\": {\n        \"dtype\": \"string\",\n        \"num_unique_values\": 5343,\n        \"samples\": [\n          \"D. 47, PR-KT LESNOI       PETROZAVODSK\",\n          \"PR. 50 LET POBEDY, 29A Tutayev        \",\n          \"D. 78, UL. MAKSIMA GOR'KO NOVOSIBIRSK \"\n        ],\n        \"semantic_type\": \"\",\n        \"description\": \"\"\n      }\n    },\n    {\n      \"column\": \"address_rus\",\n      \"properties\": {\n        \"dtype\": \"string\",\n        \"num_unique_values\": 4553,\n        \"samples\": [\n          \"\\u0411\\u0435\\u043b\\u044f\\u0435\\u0432\\u0441\\u043a\\u0430\\u044f \\u0443\\u043b\\u0438\\u0446\\u0430, 41, \\u041e\\u0440\\u0435\\u043d\\u0431\\u0443\\u0440\\u0433, \\u0420\\u043e\\u0441\\u0441\\u0438\\u044f, 460045\",\n          \"\\u0443\\u043b\\u0438\\u0446\\u0430 \\u042d\\u043d\\u0433\\u0435\\u043b\\u044c\\u0441\\u0430, 7\\u0410, \\u041b\\u044e\\u0434\\u0438\\u043d\\u043e\\u0432\\u043e, \\u041a\\u0430\\u043b\\u0443\\u0436\\u0441\\u043a\\u0430\\u044f \\u043e\\u0431\\u043b\\u0430\\u0441\\u0442\\u044c, \\u0420\\u043e\\u0441\\u0441\\u0438\\u044f\",\n          \"\\u0412\\u043e\\u0441\\u0442\\u043e\\u0447\\u043d\\u0430\\u044f \\u0443\\u043b\\u0438\\u0446\\u0430, 42/7, \\u041e\\u0440\\u0435\\u043d\\u0431\\u0443\\u0440\\u0433, \\u0420\\u043e\\u0441\\u0441\\u0438\\u044f, 460021\"\n        ],\n        \"semantic_type\": \"\",\n        \"description\": \"\"\n      }\n    },\n    {\n      \"column\": \"lat\",\n      \"properties\": {\n        \"dtype\": \"number\",\n        \"std\": 4.346200497836886,\n        \"min\": 42.05708,\n        \"max\": 69.491912,\n        \"num_unique_values\": 4540,\n        \"samples\": [\n          51.738627,\n          56.346846,\n          55.794806\n        ],\n        \"semantic_type\": \"\",\n        \"description\": \"\"\n      }\n    },\n    {\n      \"column\": \"long\",\n      \"properties\": {\n        \"dtype\": \"number\",\n        \"std\": 33.020175656400944,\n        \"min\": 19.94153,\n        \"max\": 173.70649,\n        \"num_unique_values\": 4539,\n        \"samples\": [\n          131.946462,\n          32.35022,\n          37.297718\n        ],\n        \"semantic_type\": \"\",\n        \"description\": \"\"\n      }\n    },\n    {\n      \"column\": \"target\",\n      \"properties\": {\n        \"dtype\": \"number\",\n        \"std\": 0.0858523963865973,\n        \"min\": -0.1450012314747548,\n        \"max\": 0.2186083166997159,\n        \"num_unique_values\": 5777,\n        \"samples\": [\n          -0.0419011166319386,\n          0.028067283168925,\n          0.0104901363857992\n        ],\n        \"semantic_type\": \"\",\n        \"description\": \"\"\n      }\n    },\n    {\n      \"column\": \"city\",\n      \"properties\": {\n        \"dtype\": \"category\",\n        \"num_unique_values\": 953,\n        \"samples\": [\n          \"\\u043c\\u0438\\u043a\\u0440\\u043e\\u0440\\u0430\\u0439\\u043e\\u043d \\u0420\\u043e\\u0434\\u043d\\u0438\\u043a\\u0438\",\n          \"\\u041f\\u0435\\u0440\\u0432\\u043e\\u0443\\u0440\\u0430\\u043b\\u044c\\u0441\\u043a\",\n          \"\\u0412\\u043e\\u0441\\u043a\\u0440\\u0435\\u0441\\u0435\\u043d\\u0441\\u043a\"\n        ],\n        \"semantic_type\": \"\",\n        \"description\": \"\"\n      }\n    },\n    {\n      \"column\": \"region\",\n      \"properties\": {\n        \"dtype\": \"category\",\n        \"num_unique_values\": 123,\n        \"samples\": [\n          \"\\u041e\\u0440\\u0435\\u043d\\u0431\\u0443\\u0440\\u0433\",\n          \"\\u041d\\u0438\\u0436\\u043d\\u0438\\u0439 \\u041d\\u043e\\u0432\\u0433\\u043e\\u0440\\u043e\\u0434\",\n          \"\\u0423\\u0434\\u043c\\u0443\\u0440\\u0442\\u0441\\u043a\\u0430\\u044f \\u0420\\u0435\\u0441\\u043f\\u0443\\u0431\\u043b\\u0438\\u043a\\u0430\"\n        ],\n        \"semantic_type\": \"\",\n        \"description\": \"\"\n      }\n    }\n  ]\n}",
              "type": "dataframe",
              "variable_name": "df_train"
            },
            "text/html": [
              "\n",
              "  <div id=\"df-8d4fa2e8-9078-465d-ad34-e6be8ff772f7\" class=\"colab-df-container\">\n",
              "    <div>\n",
              "<style scoped>\n",
              "    .dataframe tbody tr th:only-of-type {\n",
              "        vertical-align: middle;\n",
              "    }\n",
              "\n",
              "    .dataframe tbody tr th {\n",
              "        vertical-align: top;\n",
              "    }\n",
              "\n",
              "    .dataframe thead th {\n",
              "        text-align: right;\n",
              "    }\n",
              "</style>\n",
              "<table border=\"1\" class=\"dataframe\">\n",
              "  <thead>\n",
              "    <tr style=\"text-align: right;\">\n",
              "      <th></th>\n",
              "      <th>id</th>\n",
              "      <th>atm_group</th>\n",
              "      <th>address</th>\n",
              "      <th>address_rus</th>\n",
              "      <th>lat</th>\n",
              "      <th>long</th>\n",
              "      <th>target</th>\n",
              "      <th>city</th>\n",
              "      <th>region</th>\n",
              "    </tr>\n",
              "  </thead>\n",
              "  <tbody>\n",
              "    <tr>\n",
              "      <th>0</th>\n",
              "      <td>8526.0</td>\n",
              "      <td>32.0</td>\n",
              "      <td>EMELYANOVA,34          Y-SAKHALINSK</td>\n",
              "      <td>улица А.О. Емельянова, 34, Южно-Сахалинск, Сах...</td>\n",
              "      <td>46.940995</td>\n",
              "      <td>142.738319</td>\n",
              "      <td>0.011500</td>\n",
              "      <td>Южно-Сахалинск</td>\n",
              "      <td>Сахалинская область</td>\n",
              "    </tr>\n",
              "    <tr>\n",
              "      <th>1</th>\n",
              "      <td>8532.0</td>\n",
              "      <td>32.0</td>\n",
              "      <td>KOMSOMOLSKAYA,259B     Y.SAKHALINSK</td>\n",
              "      <td>Комсомольская улица, 259, Южно-Сахалинск, Саха...</td>\n",
              "      <td>46.937353</td>\n",
              "      <td>142.753348</td>\n",
              "      <td>0.029710</td>\n",
              "      <td>Южно-Сахалинск</td>\n",
              "      <td>Сахалинская область</td>\n",
              "    </tr>\n",
              "    <tr>\n",
              "      <th>2</th>\n",
              "      <td>8533.0</td>\n",
              "      <td>32.0</td>\n",
              "      <td>KOMMUN. PR., 32        YUZHNO SAKHAL</td>\n",
              "      <td>Коммунистический проспект, Южно-Сахалинск, Сах...</td>\n",
              "      <td>46.959413</td>\n",
              "      <td>142.741113</td>\n",
              "      <td>0.009540</td>\n",
              "      <td>Сахалинская область</td>\n",
              "      <td>Сахалинская область</td>\n",
              "    </tr>\n",
              "    <tr>\n",
              "      <th>3</th>\n",
              "      <td>8684.0</td>\n",
              "      <td>32.0</td>\n",
              "      <td>LENINGRADSKIY PR.,76A  MOSCOW</td>\n",
              "      <td>Ленинградский проспект, 76А, Москва, Россия, 1...</td>\n",
              "      <td>55.805827</td>\n",
              "      <td>37.515146</td>\n",
              "      <td>-0.094035</td>\n",
              "      <td>Москва</td>\n",
              "      <td>Москва</td>\n",
              "    </tr>\n",
              "    <tr>\n",
              "      <th>4</th>\n",
              "      <td>37.0</td>\n",
              "      <td>32.0</td>\n",
              "      <td>GVARDEYSKAYA PL., 2    NORILSK</td>\n",
              "      <td>Гвардейская площадь, 2, Норильск, Красноярский...</td>\n",
              "      <td>69.343541</td>\n",
              "      <td>88.211228</td>\n",
              "      <td>0.079277</td>\n",
              "      <td>Норильск</td>\n",
              "      <td>Красноярский край</td>\n",
              "    </tr>\n",
              "  </tbody>\n",
              "</table>\n",
              "</div>\n",
              "    <div class=\"colab-df-buttons\">\n",
              "\n",
              "  <div class=\"colab-df-container\">\n",
              "    <button class=\"colab-df-convert\" onclick=\"convertToInteractive('df-8d4fa2e8-9078-465d-ad34-e6be8ff772f7')\"\n",
              "            title=\"Convert this dataframe to an interactive table.\"\n",
              "            style=\"display:none;\">\n",
              "\n",
              "  <svg xmlns=\"http://www.w3.org/2000/svg\" height=\"24px\" viewBox=\"0 -960 960 960\">\n",
              "    <path d=\"M120-120v-720h720v720H120Zm60-500h600v-160H180v160Zm220 220h160v-160H400v160Zm0 220h160v-160H400v160ZM180-400h160v-160H180v160Zm440 0h160v-160H620v160ZM180-180h160v-160H180v160Zm440 0h160v-160H620v160Z\"/>\n",
              "  </svg>\n",
              "    </button>\n",
              "\n",
              "  <style>\n",
              "    .colab-df-container {\n",
              "      display:flex;\n",
              "      gap: 12px;\n",
              "    }\n",
              "\n",
              "    .colab-df-convert {\n",
              "      background-color: #E8F0FE;\n",
              "      border: none;\n",
              "      border-radius: 50%;\n",
              "      cursor: pointer;\n",
              "      display: none;\n",
              "      fill: #1967D2;\n",
              "      height: 32px;\n",
              "      padding: 0 0 0 0;\n",
              "      width: 32px;\n",
              "    }\n",
              "\n",
              "    .colab-df-convert:hover {\n",
              "      background-color: #E2EBFA;\n",
              "      box-shadow: 0px 1px 2px rgba(60, 64, 67, 0.3), 0px 1px 3px 1px rgba(60, 64, 67, 0.15);\n",
              "      fill: #174EA6;\n",
              "    }\n",
              "\n",
              "    .colab-df-buttons div {\n",
              "      margin-bottom: 4px;\n",
              "    }\n",
              "\n",
              "    [theme=dark] .colab-df-convert {\n",
              "      background-color: #3B4455;\n",
              "      fill: #D2E3FC;\n",
              "    }\n",
              "\n",
              "    [theme=dark] .colab-df-convert:hover {\n",
              "      background-color: #434B5C;\n",
              "      box-shadow: 0px 1px 3px 1px rgba(0, 0, 0, 0.15);\n",
              "      filter: drop-shadow(0px 1px 2px rgba(0, 0, 0, 0.3));\n",
              "      fill: #FFFFFF;\n",
              "    }\n",
              "  </style>\n",
              "\n",
              "    <script>\n",
              "      const buttonEl =\n",
              "        document.querySelector('#df-8d4fa2e8-9078-465d-ad34-e6be8ff772f7 button.colab-df-convert');\n",
              "      buttonEl.style.display =\n",
              "        google.colab.kernel.accessAllowed ? 'block' : 'none';\n",
              "\n",
              "      async function convertToInteractive(key) {\n",
              "        const element = document.querySelector('#df-8d4fa2e8-9078-465d-ad34-e6be8ff772f7');\n",
              "        const dataTable =\n",
              "          await google.colab.kernel.invokeFunction('convertToInteractive',\n",
              "                                                    [key], {});\n",
              "        if (!dataTable) return;\n",
              "\n",
              "        const docLinkHtml = 'Like what you see? Visit the ' +\n",
              "          '<a target=\"_blank\" href=https://colab.research.google.com/notebooks/data_table.ipynb>data table notebook</a>'\n",
              "          + ' to learn more about interactive tables.';\n",
              "        element.innerHTML = '';\n",
              "        dataTable['output_type'] = 'display_data';\n",
              "        await google.colab.output.renderOutput(dataTable, element);\n",
              "        const docLink = document.createElement('div');\n",
              "        docLink.innerHTML = docLinkHtml;\n",
              "        element.appendChild(docLink);\n",
              "      }\n",
              "    </script>\n",
              "  </div>\n",
              "\n",
              "\n",
              "<div id=\"df-d0f66a93-239c-47aa-92e3-635159c0f5e7\">\n",
              "  <button class=\"colab-df-quickchart\" onclick=\"quickchart('df-d0f66a93-239c-47aa-92e3-635159c0f5e7')\"\n",
              "            title=\"Suggest charts\"\n",
              "            style=\"display:none;\">\n",
              "\n",
              "<svg xmlns=\"http://www.w3.org/2000/svg\" height=\"24px\"viewBox=\"0 0 24 24\"\n",
              "     width=\"24px\">\n",
              "    <g>\n",
              "        <path d=\"M19 3H5c-1.1 0-2 .9-2 2v14c0 1.1.9 2 2 2h14c1.1 0 2-.9 2-2V5c0-1.1-.9-2-2-2zM9 17H7v-7h2v7zm4 0h-2V7h2v10zm4 0h-2v-4h2v4z\"/>\n",
              "    </g>\n",
              "</svg>\n",
              "  </button>\n",
              "\n",
              "<style>\n",
              "  .colab-df-quickchart {\n",
              "      --bg-color: #E8F0FE;\n",
              "      --fill-color: #1967D2;\n",
              "      --hover-bg-color: #E2EBFA;\n",
              "      --hover-fill-color: #174EA6;\n",
              "      --disabled-fill-color: #AAA;\n",
              "      --disabled-bg-color: #DDD;\n",
              "  }\n",
              "\n",
              "  [theme=dark] .colab-df-quickchart {\n",
              "      --bg-color: #3B4455;\n",
              "      --fill-color: #D2E3FC;\n",
              "      --hover-bg-color: #434B5C;\n",
              "      --hover-fill-color: #FFFFFF;\n",
              "      --disabled-bg-color: #3B4455;\n",
              "      --disabled-fill-color: #666;\n",
              "  }\n",
              "\n",
              "  .colab-df-quickchart {\n",
              "    background-color: var(--bg-color);\n",
              "    border: none;\n",
              "    border-radius: 50%;\n",
              "    cursor: pointer;\n",
              "    display: none;\n",
              "    fill: var(--fill-color);\n",
              "    height: 32px;\n",
              "    padding: 0;\n",
              "    width: 32px;\n",
              "  }\n",
              "\n",
              "  .colab-df-quickchart:hover {\n",
              "    background-color: var(--hover-bg-color);\n",
              "    box-shadow: 0 1px 2px rgba(60, 64, 67, 0.3), 0 1px 3px 1px rgba(60, 64, 67, 0.15);\n",
              "    fill: var(--button-hover-fill-color);\n",
              "  }\n",
              "\n",
              "  .colab-df-quickchart-complete:disabled,\n",
              "  .colab-df-quickchart-complete:disabled:hover {\n",
              "    background-color: var(--disabled-bg-color);\n",
              "    fill: var(--disabled-fill-color);\n",
              "    box-shadow: none;\n",
              "  }\n",
              "\n",
              "  .colab-df-spinner {\n",
              "    border: 2px solid var(--fill-color);\n",
              "    border-color: transparent;\n",
              "    border-bottom-color: var(--fill-color);\n",
              "    animation:\n",
              "      spin 1s steps(1) infinite;\n",
              "  }\n",
              "\n",
              "  @keyframes spin {\n",
              "    0% {\n",
              "      border-color: transparent;\n",
              "      border-bottom-color: var(--fill-color);\n",
              "      border-left-color: var(--fill-color);\n",
              "    }\n",
              "    20% {\n",
              "      border-color: transparent;\n",
              "      border-left-color: var(--fill-color);\n",
              "      border-top-color: var(--fill-color);\n",
              "    }\n",
              "    30% {\n",
              "      border-color: transparent;\n",
              "      border-left-color: var(--fill-color);\n",
              "      border-top-color: var(--fill-color);\n",
              "      border-right-color: var(--fill-color);\n",
              "    }\n",
              "    40% {\n",
              "      border-color: transparent;\n",
              "      border-right-color: var(--fill-color);\n",
              "      border-top-color: var(--fill-color);\n",
              "    }\n",
              "    60% {\n",
              "      border-color: transparent;\n",
              "      border-right-color: var(--fill-color);\n",
              "    }\n",
              "    80% {\n",
              "      border-color: transparent;\n",
              "      border-right-color: var(--fill-color);\n",
              "      border-bottom-color: var(--fill-color);\n",
              "    }\n",
              "    90% {\n",
              "      border-color: transparent;\n",
              "      border-bottom-color: var(--fill-color);\n",
              "    }\n",
              "  }\n",
              "</style>\n",
              "\n",
              "  <script>\n",
              "    async function quickchart(key) {\n",
              "      const quickchartButtonEl =\n",
              "        document.querySelector('#' + key + ' button');\n",
              "      quickchartButtonEl.disabled = true;  // To prevent multiple clicks.\n",
              "      quickchartButtonEl.classList.add('colab-df-spinner');\n",
              "      try {\n",
              "        const charts = await google.colab.kernel.invokeFunction(\n",
              "            'suggestCharts', [key], {});\n",
              "      } catch (error) {\n",
              "        console.error('Error during call to suggestCharts:', error);\n",
              "      }\n",
              "      quickchartButtonEl.classList.remove('colab-df-spinner');\n",
              "      quickchartButtonEl.classList.add('colab-df-quickchart-complete');\n",
              "    }\n",
              "    (() => {\n",
              "      let quickchartButtonEl =\n",
              "        document.querySelector('#df-d0f66a93-239c-47aa-92e3-635159c0f5e7 button');\n",
              "      quickchartButtonEl.style.display =\n",
              "        google.colab.kernel.accessAllowed ? 'block' : 'none';\n",
              "    })();\n",
              "  </script>\n",
              "</div>\n",
              "    </div>\n",
              "  </div>\n"
            ],
            "text/plain": [
              "       id  atm_group                                 address  \\\n",
              "0  8526.0       32.0  EMELYANOVA,34          Y-SAKHALINSK      \n",
              "1  8532.0       32.0  KOMSOMOLSKAYA,259B     Y.SAKHALINSK      \n",
              "2  8533.0       32.0  KOMMUN. PR., 32        YUZHNO SAKHAL     \n",
              "3  8684.0       32.0  LENINGRADSKIY PR.,76A  MOSCOW            \n",
              "4    37.0       32.0  GVARDEYSKAYA PL., 2    NORILSK           \n",
              "\n",
              "                                         address_rus        lat        long  \\\n",
              "0  улица А.О. Емельянова, 34, Южно-Сахалинск, Сах...  46.940995  142.738319   \n",
              "1  Комсомольская улица, 259, Южно-Сахалинск, Саха...  46.937353  142.753348   \n",
              "2  Коммунистический проспект, Южно-Сахалинск, Сах...  46.959413  142.741113   \n",
              "3  Ленинградский проспект, 76А, Москва, Россия, 1...  55.805827   37.515146   \n",
              "4  Гвардейская площадь, 2, Норильск, Красноярский...  69.343541   88.211228   \n",
              "\n",
              "     target                 city               region  \n",
              "0  0.011500       Южно-Сахалинск  Сахалинская область  \n",
              "1  0.029710       Южно-Сахалинск  Сахалинская область  \n",
              "2  0.009540  Сахалинская область  Сахалинская область  \n",
              "3 -0.094035               Москва               Москва  \n",
              "4  0.079277             Норильск    Красноярский край  "
            ]
          },
          "execution_count": 73,
          "metadata": {},
          "output_type": "execute_result"
        }
      ],
      "source": [
        "df_train.head()"
      ]
    },
    {
      "cell_type": "code",
      "execution_count": null,
      "metadata": {
        "id": "B9kOb8tH49gI"
      },
      "outputs": [],
      "source": [
        "def get_region(row:str) -> str:\n",
        "    if type(row) == str:\n",
        "        arr = row.split(',')\n",
        "        for elem_idx in range(len(arr)):\n",
        "            if arr[elem_idx].strip() == 'Россия':\n",
        "                res = arr[elem_idx-1].strip()\n",
        "                if type(res) == str:\n",
        "                    return res\n",
        "                    break\n",
        "                else:\n",
        "                    return np.nan\n",
        "    else:\n",
        "        return row"
      ]
    },
    {
      "cell_type": "code",
      "execution_count": null,
      "metadata": {
        "id": "-vros5zU2Ppf"
      },
      "outputs": [],
      "source": [
        "def get_city(row:str) -> str:\n",
        "    if type(row) == str:\n",
        "        return row.split(',')[2].strip()\n",
        "    else:\n",
        "        return row"
      ]
    },
    {
      "cell_type": "code",
      "execution_count": null,
      "metadata": {
        "id": "nBzw53Dr26tC"
      },
      "outputs": [],
      "source": [
        "df_train['city'] = df_train['address_rus'].apply(get_city)\n",
        "df_train['region'] = df_train['address_rus'].apply(get_region)"
      ]
    },
    {
      "cell_type": "code",
      "execution_count": null,
      "metadata": {
        "id": "Pu4i1mL1_PFt"
      },
      "outputs": [],
      "source": [
        "df_train = df_train.dropna()"
      ]
    },
    {
      "cell_type": "code",
      "execution_count": null,
      "metadata": {
        "id": "bD5dbfT_-Gvq"
      },
      "outputs": [],
      "source": [
        "X_train, X_test, y_train, y_test = train_test_split(\n",
        "    pd.get_dummies(df_train).drop(['id', 'target'], axis=1),\n",
        "    pd.get_dummies(df_train)['target'],\n",
        "    test_size=0.2,\n",
        "    random_state=13)"
      ]
    },
    {
      "cell_type": "code",
      "execution_count": null,
      "metadata": {
        "id": "42E5Wg7934cc"
      },
      "outputs": [],
      "source": [
        "model = LinearRegression()\n",
        "\n",
        "model.fit(X_train, y_train)\n",
        "predicts = model.predict(X_test)"
      ]
    },
    {
      "cell_type": "code",
      "execution_count": null,
      "metadata": {
        "colab": {
          "base_uri": "https://localhost:8080/"
        },
        "id": "ww1pFX3a9ipm",
        "outputId": "71efbc88-801c-40d6-8c49-efe0a7d57360"
      },
      "outputs": [
        {
          "data": {
            "text/plain": [
              "80766.8346904284"
            ]
          },
          "execution_count": 113,
          "metadata": {},
          "output_type": "execute_result"
        }
      ],
      "source": [
        "mean_absolute_error(y_test, predicts)"
      ]
    },
    {
      "cell_type": "code",
      "execution_count": null,
      "metadata": {
        "id": "-aCdq3gcByb_"
      },
      "outputs": [],
      "source": []
    }
  ],
  "metadata": {
    "colab": {
      "provenance": []
    },
    "kernelspec": {
      "display_name": "Python 3",
      "name": "python3"
    },
    "language_info": {
      "name": "python",
      "version": "3.10.13"
    }
  },
  "nbformat": 4,
  "nbformat_minor": 0
}
